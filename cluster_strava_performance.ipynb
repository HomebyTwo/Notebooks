{
 "cells": [
  {
   "cell_type": "markdown",
   "metadata": {},
   "source": [
    "# Calculate Athlete Performance based on Strava History\n",
    "This notebook tests different approches to use the athlete's history to predict his performance."
   ]
  },
  {
   "cell_type": "markdown",
   "metadata": {},
   "source": [
    "## Set Strava API user token\n",
    "Import the Client from the [stravalib library](https://github.com/hozn/stravalib/) and load your Access Token.\n",
    "\n",
    "You can find your personal token at https://www.strava.com/settings/api. Copy your token to a file named `STRAVA_TOKEN` in the home directory."
   ]
  },
  {
   "cell_type": "code",
   "execution_count": null,
   "metadata": {},
   "outputs": [],
   "source": [
    "from stravalib import unithelper\n",
    "from stravalib.client import Client as StravaClient\n",
    "\n",
    "strava_token = !cat STRAVA_TOKEN\n",
    "strava_client = StravaClient(access_token=strava_token)"
   ]
  },
  {
   "cell_type": "markdown",
   "metadata": {},
   "source": [
    "## Import Activities\n"
   ]
  },
  {
   "cell_type": "code",
   "execution_count": null,
   "metadata": {},
   "outputs": [],
   "source": [
    "import datetime\n",
    "import sys\n",
    "from termcolor import colored\n",
    "\n",
    "weeks = datetime.timedelta(weeks=4)\n",
    "\n",
    "args = {\n",
    "    # 'after': datetime.datetime.now() - weeks, # start date is after specified value (UTC). datetime.datetime or str or None\n",
    "    # 'before': datetime.datetime(year=2017, month=12, day=31), # start date is before specified value (UTC). datetime.datetime or str or None\n",
    "    # 'limit': 50,  # Maximum activites retrieved\n",
    "}\n",
    "\n",
    "activities = strava_client.get_activities(**args)\n",
    "\n",
    "manual_activities = [activity for activity in activities if activity.manual]\n",
    "activities = [activity for activity in activities if not activity.manual]\n",
    "\n",
    "message = \"%d Activities imported\\n\" % len(activities)\n",
    "sys.stdout.write(colored(message, attrs=['bold']))\n",
    "print(\"%d Manual activities excluded\" % len(manual_activities))\n"
   ]
  },
  {
   "cell_type": "markdown",
   "metadata": {},
   "source": [
    "## Group Activities by Activity Type\n",
    "We create a dictionnary containing lists of activities by [activity type](https://strava.github.io/api/v3/activities/#activity-types-a-idtypesnbspa).\n",
    "\n",
    "\n",
    "### Basic Activity Types:\n",
    "- `Ride`\n",
    "- `Run`\n",
    "- `Swim`\n",
    "- `Hike`\n",
    "- `Walk`\n",
    "\n",
    "### More Exotic ones:\n",
    "`AlpineSki`, `BackcountrySki`, `Canoeing`, `Crossfit`, `EBikeRide`, `Elliptical`, `IceSkate`, `InlineSkate`, `Kayaking`, `Kitesurf`, `NordicSki`, `RockClimbing`, `RollerSki`, `Rowing`, `Snowboard`, `Snowshoe`, `StairStepper`, `StandUpPaddling`, `Surfing`, `VirtualRide`, `WeightTraining`, `Windsurf`, `Workout`, `Yoga`"
   ]
  },
  {
   "cell_type": "code",
   "execution_count": null,
   "metadata": {
    "scrolled": true
   },
   "outputs": [],
   "source": [
    "activities_by_type = {}\n",
    "\n",
    "for activity in activities: \n",
    "    if activity.type not in activities_by_type:\n",
    "        activities_by_type[activity.type] = []\n",
    "    \n",
    "    activities_by_type[activity.type].append(activity)\n",
    "\n",
    "for activity_type, activity_list in activities_by_type.items():\n",
    "    sys.stdout.write(\"- %s: %d \\n\" % (activity_type, len(activity_list)))\n",
    "    "
   ]
  },
  {
   "cell_type": "markdown",
   "metadata": {},
   "source": [
    "## Group Activities by Gear\n",
    "We choose the activity type and group the activities by gear used during the activity."
   ]
  },
  {
   "cell_type": "code",
   "execution_count": null,
   "metadata": {},
   "outputs": [],
   "source": [
    "activities_by_gear = {}\n",
    "\n",
    "for activity in activities:\n",
    "    if activity.gear_id not in activities_by_gear:\n",
    "        activities_by_gear[activity.gear_id] = []\n",
    "\n",
    "    activities_by_gear[activity.gear_id].append(activity) \n",
    "\n",
    "gear_ids = list(activities_by_gear)\n",
    "\n",
    "for gear_id in gear_ids:\n",
    "    if gear_id is not None:\n",
    "        gear = strava_client.get_gear(gear_id)\n",
    "        activities_by_gear[gear.name] = activities_by_gear.pop(gear_id)\n",
    "\n",
    "for activity_gear, activity_list in activities_by_gear.items():\n",
    "    sys.stdout.write(\"- %s: %d \\n\" % (activity_gear, len(activity_list)))"
   ]
  },
  {
   "cell_type": "markdown",
   "metadata": {},
   "source": [
    "## Group Activities by Workout Type\n",
    "We group the activities by workout type:\n",
    "- `default run`,\n",
    "- `race run`,\n",
    "- `long run`,\n",
    "- `workout run`,\n",
    "- `default ride`,\n",
    "- `race ride`,\n",
    "- `workout ride`"
   ]
  },
  {
   "cell_type": "code",
   "execution_count": null,
   "metadata": {},
   "outputs": [],
   "source": [
    "activities_by_workout_type = {}\n",
    "\n",
    "for activity in activities:\n",
    "\n",
    "    if activity.workout_type not in activities_by_workout_type:\n",
    "        activities_by_workout_type[activity.workout_type] = []\n",
    "\n",
    "    activities_by_workout_type[activity.workout_type].append(activity)\n",
    "\n",
    "# Rename workout type\n",
    "workout_types = {\n",
    "    '0': 'default run',\n",
    "    '1': 'race run',\n",
    "    '2': 'long run',\n",
    "    '3': 'workout run',\n",
    "    '10': 'default ride',\n",
    "    '11': 'race ride',\n",
    "    '12': 'workout ride',\n",
    "}\n",
    "\n",
    "for key, name in workout_types.items():\n",
    "    if key in activities_by_workout_type:\n",
    "        activities_by_workout_type[name] = activities_by_workout_type.pop(key)\n",
    "        \n",
    "for workout_type, activities in activities_by_workout_type.items():\n",
    "    sys.stdout.write(\"- %s: %d \\n\" % (workout_type, len(activities)))        \n",
    "\n"
   ]
  },
  {
   "cell_type": "markdown",
   "metadata": {},
   "source": [
    "## Filter activities\n",
    "Always filter activity by type: `Run`, `Ride`, `Swim`, etc..\n",
    "\n",
    "Optionnaly further filter by additional criteria, e.g.:\n",
    "- Gear\n",
    "- Workout type\n",
    "- Distance\n",
    "- Altitude gain\n",
    "- Date"
   ]
  },
  {
   "cell_type": "code",
   "execution_count": null,
   "metadata": {},
   "outputs": [],
   "source": [
    "filtered_activities = []\n",
    "\n",
    "# Activity Type (Run, Ride, Swim, etc.)\n",
    "filtered_activities = activities_by_type['Run']\n",
    "\n",
    "# Workout Type (race, workout, long run, etc...)\n",
    "# filtered_activities = activities_by_workout_type['default run']\n",
    "\n",
    "# Gear\n",
    "# filtered_activities = activities_by_gear['Dynafit Alpine Pro']\n",
    "\n",
    "# Filter more by type\n",
    "# filtered_activities = [activity for activity in filtered_activities if activity.type == 'Run']\n",
    "\n",
    "# Filter more by elevation gain\n",
    "# filtered_activities = [activity for activity in filtered_activities if 1000 < unithelper.meters(activity.total_elevation_gain).num < 3000]\n",
    "\n",
    "# Filter more by distance\n",
    "# filtered_activities = [activity for activity in filtered_activities if unithelper.kilometers(activity.distance).num > 5]\n",
    "\n",
    "# Filter more by date\n",
    "# filtered_activities = [activity for activity in filtered_activities if activity.start_date_local > datetime.datetime(year=2018, month=1, day=1)]\n",
    "\n",
    "message = \"{} activities selected:\\n\".format(len(filtered_activities))\n",
    "sys.stdout.write(colored(message, attrs=['bold']))\n",
    "for activity in filtered_activities:\n",
    "    date = activity.start_date.strftime('%d.%m.%y')\n",
    "    sys.stdout.write(\"- {} {}: {} {}, +{}\\n\".format(\n",
    "        activity.type,\n",
    "        date,\n",
    "        activity.name,\n",
    "        unithelper.kilometers(activity.distance),\n",
    "        unithelper.meters(activity.total_elevation_gain),\n",
    "    ))\n"
   ]
  },
  {
   "cell_type": "markdown",
   "metadata": {},
   "source": [
    "## Import Raw Streams for activities"
   ]
  },
  {
   "cell_type": "code",
   "execution_count": null,
   "metadata": {},
   "outputs": [],
   "source": [
    "count = len(filtered_activities)\n",
    "observations = []\n",
    "stream_types = ['time', 'altitude', 'distance']\n",
    "\n",
    "for index, activity in enumerate(filtered_activities):\n",
    "    # get raw streams at low resolution for optimal sampling\n",
    "    raw_streams = strava_client.get_activity_streams(activity.id, types=stream_types, resolution='low')\n",
    "\n",
    "    # make sure we have all the data for the linear regression\n",
    "    if all(stream_type in raw_streams for stream_type in stream_types) and raw_streams['time'].original_size:\n",
    "        observations.append({'activity': activity, 'streams': raw_streams})\n",
    "        status = 'added'\n",
    "    else:\n",
    "        status = 'skipped'\n",
    "    \n",
    "    date = activity.start_date.strftime('%d.%m.%y')\n",
    "    \n",
    "    # display progress\n",
    "    message = \"{}/{} {}: {} {}: {} - {}, +{}... \\n\".format(\n",
    "        index + 1, count,\n",
    "        status,\n",
    "        date,\n",
    "        activity.type,\n",
    "        activity.name,\n",
    "        unithelper.kilometers(activity.distance),\n",
    "        activity.total_elevation_gain)\n",
    "\n",
    "    sys.stdout.write(message)\n",
    "\n",
    "# remove skipped activities from observations\n",
    "observations = [observation for observation in observations if observation['streams']]\n",
    "\n",
    "# display results\n",
    "message = \"\\nData streams imported for {} activities\\n\".format(len(observations))\n",
    "sys.stdout.write(colored(message, attrs=['bold']))\n"
   ]
  },
  {
   "cell_type": "markdown",
   "metadata": {},
   "source": [
    "## Prepare DataFrame for Polynomial Regression"
   ]
  },
  {
   "cell_type": "markdown",
   "metadata": {},
   "source": [
    "The basic assumption is that there is a polynomial relationship between the **pace** of the athlete and the **slope** of travelled terrain, plus a penalty linked to the **total elevation gain**:\n",
    "\n",
    "$$y = ax^2 + bx + ez + c $$\n",
    "\n",
    "\n",
    "Where:\n",
    "$$slope = x = \\frac{elevation\\:in\\:meters}{distance\\:in\\:meters}$$\n",
    "\n",
    "\n",
    "and:\n",
    "$$pace = y = \\frac{seconds}{meter}$$\n",
    "\n",
    "and:\n",
    "$$total\\:elevation\\:gain = z = {meters}$$\n",
    "\n",
    "\n",
    "We try to fit the data with a polynomial regression."
   ]
  },
  {
   "cell_type": "code",
   "execution_count": null,
   "metadata": {},
   "outputs": [],
   "source": [
    "import math\n",
    "import numpy as np\n",
    "import pandas as pd\n",
    "\n",
    "count = len(observations)\n",
    "\n",
    "for index, observation in enumerate(observations):\n",
    "    streams = pd.DataFrame()\n",
    "    data = pd.DataFrame()\n",
    "\n",
    "    for key, stream in observation['streams'].items():\n",
    "        streams[key] = stream.data\n",
    "\n",
    "    data['gradient'] = streams['altitude'].diff() / streams['distance'].diff()\n",
    "    data['pace'] = streams['time'].diff() / streams['distance'].diff()\n",
    "    data['totalup'] = streams['altitude'].diff()[streams['altitude'].diff() >= 0].cumsum()\n",
    "    data['totalup'] = data['totalup'].fillna(method='ffill').fillna(value=0)\n",
    "\n",
    "    # cleanup and sort by gradient\n",
    "    data = data[data.gradient.notnull()]\n",
    "    data = data.sort_values(['gradient'])\n",
    "    data = data.reset_index(drop=True)\n",
    "\n",
    "    # append to observations\n",
    "    observation['data'] = data\n",
    "    \n",
    "    # display progress\n",
    "    message = \"{}/{} \\r\".format(index + 1, count)\n",
    "    sys.stdout.write(message)\n",
    "    sys.stdout.flush()\n"
   ]
  },
  {
   "cell_type": "markdown",
   "metadata": {},
   "source": [
    "## Remove outliers\n",
    "**TODO**: Refactor with sklearn"
   ]
  },
  {
   "cell_type": "code",
   "execution_count": null,
   "metadata": {
    "scrolled": true
   },
   "outputs": [],
   "source": [
    "for index, observation in enumerate(observations):\n",
    "    data = observation['data']\n",
    "    data = data[np.abs(data.pace - data.pace.mean()) <= (2.5 * data.pace.std())] # keep only the ones that are within +2.5 to -2.5 standard deviations in the column 'pace'.\n",
    "    data = data[np.abs(data.gradient - data.gradient.mean()) <= ( 6 * data.gradient.std())] # keep only the ones that are within +6 to -6 standard deviations in the column 'gradient'.\n",
    "    observation['data'] = data\n",
    "    \n",
    "    # display progress\n",
    "    message = \"{}/{} \\r\".format(index + 1, count)\n",
    "    sys.stdout.write(message)\n",
    "    sys.stdout.flush()\n",
    "    "
   ]
  },
  {
   "cell_type": "markdown",
   "metadata": {},
   "source": [
    "## Linear regression with sklearn "
   ]
  },
  {
   "cell_type": "code",
   "execution_count": null,
   "metadata": {
    "scrolled": false
   },
   "outputs": [],
   "source": [
    "from sklearn.linear_model import LinearRegression\n",
    "from sklearn.pipeline import Pipeline\n",
    "import matplotlib.pyplot as plt\n",
    "%matplotlib inline\n",
    "\n",
    "for index, observation in enumerate(observations):\n",
    "    data = observation['data']\n",
    "    data['gradient_squared'] = data.gradient**2\n",
    "    variables = data[['gradient_squared', 'gradient', 'totalup']]                           \n",
    "    target = data['pace']\n",
    "\n",
    "    X = variables\n",
    "    y = target\n",
    "\n",
    "    model = LinearRegression()\n",
    "    model.fit(X,y)\n",
    "    model.score_ = model.score(X,y)\n",
    "    \n",
    "    observation['data'] = data\n",
    "    observation['model'] = model\n",
    "\n",
    "    activity_message = \"{}/{}: {}\\n\".format(index + 1, count, observation['activity'].name)\n",
    "    model_message = \"R-squared: {} \\nIntercept: {}\".format(model.score_, model.intercept_)\n",
    "\n",
    "    pace = data['pace'] * 1000 / 60\n",
    "    gradient = data['gradient']\n",
    "    predictions = model.predict(X) * 1000 / 60\n",
    "\n",
    "    fig = plt.figure(figsize=(40, 10))\n",
    "    ax = fig.add_subplot(122)\n",
    "    ax.plot(gradient, pace, 'b.')\n",
    "    ax.plot(gradient, predictions, 'ro')\n",
    "    plt.title(activity_message + model_message)\n",
    "    plt.close()\n"
   ]
  },
  {
   "cell_type": "markdown",
   "metadata": {},
   "source": [
    "## Filter activities by model score and aggregate data"
   ]
  },
  {
   "cell_type": "code",
   "execution_count": null,
   "metadata": {},
   "outputs": [],
   "source": [
    "aggregated_data = pd.DataFrame()\n",
    "\n",
    "# filter activities by R-square of the linear regression\n",
    "good_observations = [observation for observation in observations if observation['model'].score_ > 0.75]\n",
    "\n",
    "# aggregate good activity data in one table\n",
    "for observation in good_observations:\n",
    "    aggregated_data = aggregated_data.append(observation['data'])\n",
    "\n",
    "    # display progress\n",
    "    message = \"{}/{} \\r\".format(index + 1, count)\n",
    "    sys.stdout.write(message)\n",
    "    sys.stdout.flush()\n",
    "    \n",
    "aggregated_data = aggregated_data.sort_values(['gradient'])\n",
    "aggregated_data = aggregated_data.reset_index(drop=True)\n",
    "\n",
    "# display results of the aggregation\n",
    "count = len(good_observations)\n",
    "message = \"{} activities aggregated.\\n\".format(count)\n",
    "sys.stdout.write(colored(message, attrs=['bold']))\n",
    "for observation in good_observations:\n",
    "    activity = observation['activity']\n",
    "    date = activity.start_date.strftime('%d.%m.%y')\n",
    "    sys.stdout.write(\"- {} {}: {} {}, +{}\\n\".format(\n",
    "        activity.type,\n",
    "        date,\n",
    "        activity.name,\n",
    "        unithelper.kilometers(activity.distance),\n",
    "        unithelper.meters(activity.total_elevation_gain),\n",
    "    ))\n"
   ]
  },
  {
   "cell_type": "markdown",
   "metadata": {},
   "source": [
    "## Linear regression on aggregated data"
   ]
  },
  {
   "cell_type": "code",
   "execution_count": null,
   "metadata": {},
   "outputs": [],
   "source": [
    "%matplotlib inline\n",
    "\n",
    "variables = aggregated_data[['gradient_squared', 'gradient', 'totalup']]                           \n",
    "target = aggregated_data['pace']\n",
    "\n",
    "X = variables\n",
    "y = target\n",
    "\n",
    "model = LinearRegression()\n",
    "model.fit(X,y)\n",
    "model.score_ = model.score(X,y)\n",
    "\n",
    "print('R-squared: %s' % model.score_)\n",
    "print('Intercept: %s' % model.intercept_)\n",
    "print('Coef: %s' % model.coef_)\n",
    "print('Based on %d entries.' % variables.shape[0])\n",
    "\n",
    "pace = aggregated_data['pace'] * 1000 / 60\n",
    "gradient = aggregated_data['gradient']\n",
    "predictions = model.predict(X) * 1000 / 60\n",
    "\n",
    "fig = plt.figure(figsize=(40, 10))\n",
    "ax = fig.add_subplot(122)\n",
    "ax.plot(gradient, pace, 'b,')\n",
    "ax.plot(gradient, predictions, 'r.')\n"
   ]
  },
  {
   "cell_type": "code",
   "execution_count": null,
   "metadata": {},
   "outputs": [],
   "source": []
  }
 ],
 "metadata": {
  "kernelspec": {
   "display_name": "Python 3",
   "language": "python",
   "name": "python3"
  },
  "language_info": {
   "codemirror_mode": {
    "name": "ipython",
    "version": 3
   },
   "file_extension": ".py",
   "mimetype": "text/x-python",
   "name": "python",
   "nbconvert_exporter": "python",
   "pygments_lexer": "ipython3",
   "version": "3.6.3"
  }
 },
 "nbformat": 4,
 "nbformat_minor": 2
}
