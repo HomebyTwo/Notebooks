{
 "cells": [
  {
   "cell_type": "markdown",
   "metadata": {},
   "source": [
    "## Set Strava API user token\n",
    "Import the Client from the [stravalib library](https://github.com/hozn/stravalib/) and load your Access Token.\n",
    "\n",
    "You can find your personal token at https://www.strava.com/settings/api. Copy your token to a file named `STRAVA_TOKEN` in the home directory."
   ]
  },
  {
   "cell_type": "code",
   "execution_count": null,
   "metadata": {},
   "outputs": [],
   "source": [
    "from stravalib import unithelper\n",
    "from stravalib.client import Client as StravaClient\n",
    "\n",
    "strava_token = !cat STRAVA_TOKEN\n",
    "strava_client = StravaClient(access_token=strava_token)"
   ]
  },
  {
   "cell_type": "markdown",
   "metadata": {},
   "source": [
    "## Import Activity from Strava"
   ]
  },
  {
   "cell_type": "code",
   "execution_count": null,
   "metadata": {},
   "outputs": [],
   "source": [
    "import sys\n",
    "import pandas as pd\n",
    "from termcolor import colored\n",
    "\n",
    "# Zermatt Westside https://homebytwo.ch/routes/81/\n",
    "route = pd.read_hdf('zermatt_westside.h5')\n",
    "activity = strava_client.get_activity(1751305566) # replace with your data\n",
    "\n",
    "# get activity and streams\n",
    "stream_types = ['latlng', 'time', 'altitude', 'distance']\n",
    "raw_streams = strava_client.get_activity_streams(activity.id, types=stream_types, resolution='high')\n",
    "\n",
    "# Display results\n",
    "date = activity.start_date.strftime('%d.%m.%y')    \n",
    "message_title = \"Successfuly importered {}\\n\".format(activity.name,)\n",
    "message_body = \"{} on {}: {}, +{}\".format(\n",
    "    activity.type,\n",
    "    date,\n",
    "    unithelper.kilometers(activity.distance),\n",
    "    unithelper.meters(activity.total_elevation_gain),\n",
    ")\n",
    "\n",
    "sys.stdout.write(colored(message_title, attrs=['bold']))\n",
    "sys.stdout.write(message_body)"
   ]
  },
  {
   "cell_type": "markdown",
   "metadata": {},
   "source": [
    "## Put activity data in Pandas DataFrame"
   ]
  },
  {
   "cell_type": "code",
   "execution_count": null,
   "metadata": {},
   "outputs": [],
   "source": [
    "data = pd.DataFrame()\n",
    "\n",
    "for key, stream in raw_streams.items():\n",
    "    data[key] = stream.data\n",
    "data.head()\n"
   ]
  },
  {
   "cell_type": "markdown",
   "metadata": {},
   "source": [
    "## Import Route with Schedule from Homebytwo and calculate schedule"
   ]
  },
  {
   "cell_type": "code",
   "execution_count": null,
   "metadata": {},
   "outputs": [],
   "source": [
    "# Set parameters\n",
    "slope_squared_param = 4.03368561\n",
    "slope_param = 1.22328986\n",
    "flat_param = 0.3210731982071581\n",
    "total_elevation_gain_param = 0.000133084109\n",
    "\n",
    "# Calculate elevation gain and distance\n",
    "route['distance'] = route['length'].diff().fillna(value=0)\n",
    "route['gain'] = route['altitude'].diff().fillna(value=0)\n",
    "\n",
    "# Calculate schedule\n",
    "route['schedule'] = (\n",
    "    (slope_squared_param * route['gain']**2) / route['distance']\n",
    "    + slope_param * route['gain']\n",
    "    + flat_param * route['distance']\n",
    "    + total_elevation_gain_param * route['totalup'] * route['distance']\n",
    ").where(route['distance'] > 0.1, 0).cumsum().fillna(value=0)\n",
    "\n",
    "route.tail()"
   ]
  },
  {
   "cell_type": "markdown",
   "metadata": {},
   "source": [
    "## Calculate expected schedule from GPS position"
   ]
  },
  {
   "cell_type": "code",
   "execution_count": null,
   "metadata": {},
   "outputs": [],
   "source": [
    "from datetime import timedelta\n",
    "\n",
    "from pyproj import Proj, transform, Geod\n",
    "from shapely.geometry import LineString, Point\n",
    "from numpy import interp\n",
    "import matplotlib.pyplot as plt\n",
    "%matplotlib inline\n",
    "\n",
    "# define projections to transform coordinates and calculate distance\n",
    "swiss_projection = Proj(init='epsg:21781')\n",
    "google_projection = Proj(init='epsg:4326')\n",
    "geod = Geod(ellps='WGS84')\n",
    "\n",
    "# create route LineString\n",
    "coords = route[['lat', 'lng']]\n",
    "swiss_route_coords = [tuple(x) for x in coords.values]\n",
    "route_coords = [transform(swiss_projection, google_projection, coords[0], coords[1]) for coords in swiss_route_coords]\n",
    "route_coords = [(coords[1], coords[0]) for coords in route_coords]\n",
    "route_linestring = LineString(route_coords)\n",
    "route_length = route['length'].max()\n",
    "\n",
    "def get_expected_schedule(latlng):\n",
    "    activity_point = Point(latlng)\n",
    "    line_location = route_linestring.project(activity_point, normalized=True)\n",
    "    interp_x = line_location * route_length\n",
    "    return interp(interp_x, route['length'], route['schedule'])\n",
    "\n",
    "def get_distance_from_line(latlng):\n",
    "    activity_point = Point(latlng)\n",
    "    line_location = route_linestring.project(activity_point, normalized=True)\n",
    "    route_point = route_linestring.interpolate(line_location, normalized=True)\n",
    "    az12, az21, distance = geod.inv(activity_point.x, activity_point.y, route_point.x, route_point.y)\n",
    "    return distance\n",
    "\n",
    "data['expected_schedule'] = data['latlng'].apply(get_expected_schedule)\n",
    "data['distance_from_route'] = data['latlng'].apply(get_distance_from_line)\n",
    "data['time_diff'] = data['time'] - data['expected_schedule']\n",
    "\n",
    "fig = plt.figure(figsize=(40, 10))\n",
    "ax = fig.add_subplot(122)\n",
    "ax.plot(data['distance'], data['time_diff'], 'b-')\n",
    "ax.plot(data['distance'], data['distance_from_route'], 'r-')\n",
    "ax.plot(data['distance'], data['altitude'], 'g')\n",
    "\n",
    "data.tail()\n"
   ]
  },
  {
   "cell_type": "code",
   "execution_count": null,
   "metadata": {},
   "outputs": [],
   "source": []
  }
 ],
 "metadata": {
  "kernelspec": {
   "display_name": "Python 3",
   "language": "python",
   "name": "python3"
  },
  "language_info": {
   "codemirror_mode": {
    "name": "ipython",
    "version": 3
   },
   "file_extension": ".py",
   "mimetype": "text/x-python",
   "name": "python",
   "nbconvert_exporter": "python",
   "pygments_lexer": "ipython3",
   "version": "3.6.3"
  }
 },
 "nbformat": 4,
 "nbformat_minor": 2
}
